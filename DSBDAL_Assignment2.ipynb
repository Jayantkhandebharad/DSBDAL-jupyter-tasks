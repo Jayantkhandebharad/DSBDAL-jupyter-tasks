{
 "cells": [
  {
   "cell_type": "markdown",
   "id": "7c606bbf",
   "metadata": {},
   "source": [
    "## Data Wrangling II\n",
    "Create an 'Academic Performance' dataset of students and perform the following operations using python.\n",
    "\n",
    "1.Scan all variables for missing values and inconsisitencies.If there are missing values and/or inconsistencies, use any of the suitable technique to deal with them.\n",
    "\n",
    "2.Scan all numeric variables for outliers.If there are outliers, use any of the suitable technique to deal with them.\n",
    "\n",
    "3.Apply data transformation on at least one of the variables.The purpose of this transformation should be one of the following reasons: to change the scale for better understanding of the variable,to convert a non-linear relation into a linear one,or to decrease the skewness and convert the distribution into a normal distribution."
   ]
  },
  {
   "cell_type": "markdown",
   "id": "1d04dc4c",
   "metadata": {},
   "source": [
    "## Import all the required Python libraries"
   ]
  },
  {
   "cell_type": "code",
   "execution_count": 27,
   "id": "a2b459ce",
   "metadata": {},
   "outputs": [],
   "source": [
    "import pandas as pd\n",
    "import numpy as np \n",
    "import matplotlib.pyplot as plt\n",
    "import seaborn as sns\n",
    "from scipy.stats import skew"
   ]
  },
  {
   "cell_type": "markdown",
   "id": "4aa22cea",
   "metadata": {},
   "source": [
    "## Loading the dataset in pandas dataframe"
   ]
  },
  {
   "cell_type": "code",
   "execution_count": 28,
   "id": "699e89c4",
   "metadata": {},
   "outputs": [],
   "source": [
    "data=pd.read_csv(\"Academics.csv\")\n",
    "df=pd.DataFrame(data)"
   ]
  },
  {
   "cell_type": "markdown",
   "id": "1d83d238",
   "metadata": {},
   "source": [
    "## reading headers"
   ]
  },
  {
   "cell_type": "code",
   "execution_count": 29,
   "id": "54849d21",
   "metadata": {},
   "outputs": [
    {
     "name": "stdout",
     "output_type": "stream",
     "text": [
      "Index(['Name', 'Age', 'EM3', 'OOP', 'DS', 'DSA'], dtype='object')\n"
     ]
    }
   ],
   "source": [
    "print(df.columns)"
   ]
  },
  {
   "cell_type": "code",
   "execution_count": 30,
   "id": "de5349a6",
   "metadata": {},
   "outputs": [
    {
     "data": {
      "text/html": [
       "<div>\n",
       "<style scoped>\n",
       "    .dataframe tbody tr th:only-of-type {\n",
       "        vertical-align: middle;\n",
       "    }\n",
       "\n",
       "    .dataframe tbody tr th {\n",
       "        vertical-align: top;\n",
       "    }\n",
       "\n",
       "    .dataframe thead th {\n",
       "        text-align: right;\n",
       "    }\n",
       "</style>\n",
       "<table border=\"1\" class=\"dataframe\">\n",
       "  <thead>\n",
       "    <tr style=\"text-align: right;\">\n",
       "      <th></th>\n",
       "      <th>Name</th>\n",
       "      <th>Age</th>\n",
       "      <th>EM3</th>\n",
       "      <th>OOP</th>\n",
       "      <th>DS</th>\n",
       "      <th>DSA</th>\n",
       "    </tr>\n",
       "  </thead>\n",
       "  <tbody>\n",
       "    <tr>\n",
       "      <th>0</th>\n",
       "      <td>Adam</td>\n",
       "      <td>16.0</td>\n",
       "      <td>70.0</td>\n",
       "      <td>40</td>\n",
       "      <td>92.0</td>\n",
       "      <td>26</td>\n",
       "    </tr>\n",
       "    <tr>\n",
       "      <th>1</th>\n",
       "      <td>Adrian</td>\n",
       "      <td>16.0</td>\n",
       "      <td>77.0</td>\n",
       "      <td>41</td>\n",
       "      <td>64.0</td>\n",
       "      <td>21</td>\n",
       "    </tr>\n",
       "    <tr>\n",
       "      <th>2</th>\n",
       "      <td>Alan</td>\n",
       "      <td>40.0</td>\n",
       "      <td>71.0</td>\n",
       "      <td>41</td>\n",
       "      <td>100.0</td>\n",
       "      <td>38</td>\n",
       "    </tr>\n",
       "    <tr>\n",
       "      <th>3</th>\n",
       "      <td>Alexander</td>\n",
       "      <td>17.0</td>\n",
       "      <td>65.0</td>\n",
       "      <td>48</td>\n",
       "      <td>68.0</td>\n",
       "      <td>25</td>\n",
       "    </tr>\n",
       "    <tr>\n",
       "      <th>4</th>\n",
       "      <td>Rachel</td>\n",
       "      <td>49.0</td>\n",
       "      <td>80.0</td>\n",
       "      <td>44</td>\n",
       "      <td>72.0</td>\n",
       "      <td>49</td>\n",
       "    </tr>\n",
       "  </tbody>\n",
       "</table>\n",
       "</div>"
      ],
      "text/plain": [
       "        Name   Age   EM3  OOP     DS  DSA\n",
       "0       Adam  16.0  70.0   40   92.0   26\n",
       "1     Adrian  16.0  77.0   41   64.0   21\n",
       "2       Alan  40.0  71.0   41  100.0   38\n",
       "3  Alexander  17.0  65.0   48   68.0   25\n",
       "4     Rachel  49.0  80.0   44   72.0   49"
      ]
     },
     "execution_count": 30,
     "metadata": {},
     "output_type": "execute_result"
    }
   ],
   "source": [
    "df.head(5)"
   ]
  },
  {
   "cell_type": "code",
   "execution_count": 31,
   "id": "fd2a567c",
   "metadata": {},
   "outputs": [
    {
     "data": {
      "text/html": [
       "<div>\n",
       "<style scoped>\n",
       "    .dataframe tbody tr th:only-of-type {\n",
       "        vertical-align: middle;\n",
       "    }\n",
       "\n",
       "    .dataframe tbody tr th {\n",
       "        vertical-align: top;\n",
       "    }\n",
       "\n",
       "    .dataframe thead th {\n",
       "        text-align: right;\n",
       "    }\n",
       "</style>\n",
       "<table border=\"1\" class=\"dataframe\">\n",
       "  <thead>\n",
       "    <tr style=\"text-align: right;\">\n",
       "      <th></th>\n",
       "      <th>Name</th>\n",
       "      <th>Age</th>\n",
       "      <th>EM3</th>\n",
       "      <th>OOP</th>\n",
       "      <th>DS</th>\n",
       "      <th>DSA</th>\n",
       "    </tr>\n",
       "  </thead>\n",
       "  <tbody>\n",
       "    <tr>\n",
       "      <th>107</th>\n",
       "      <td>Marietta</td>\n",
       "      <td>NaN</td>\n",
       "      <td>76.0</td>\n",
       "      <td>42</td>\n",
       "      <td>96.0</td>\n",
       "      <td>24</td>\n",
       "    </tr>\n",
       "    <tr>\n",
       "      <th>108</th>\n",
       "      <td>Saundra</td>\n",
       "      <td>16.0</td>\n",
       "      <td>31.0</td>\n",
       "      <td>48</td>\n",
       "      <td>80.0</td>\n",
       "      <td>31</td>\n",
       "    </tr>\n",
       "    <tr>\n",
       "      <th>109</th>\n",
       "      <td>Scottie</td>\n",
       "      <td>15.0</td>\n",
       "      <td>55.0</td>\n",
       "      <td>43</td>\n",
       "      <td>70.0</td>\n",
       "      <td>45</td>\n",
       "    </tr>\n",
       "    <tr>\n",
       "      <th>110</th>\n",
       "      <td>Jodie</td>\n",
       "      <td>15.0</td>\n",
       "      <td>74.0</td>\n",
       "      <td>45</td>\n",
       "      <td>73.0</td>\n",
       "      <td>21</td>\n",
       "    </tr>\n",
       "    <tr>\n",
       "      <th>111</th>\n",
       "      <td>Jarrod</td>\n",
       "      <td>16.0</td>\n",
       "      <td>75.0</td>\n",
       "      <td>49</td>\n",
       "      <td>72.0</td>\n",
       "      <td>46</td>\n",
       "    </tr>\n",
       "  </tbody>\n",
       "</table>\n",
       "</div>"
      ],
      "text/plain": [
       "          Name   Age   EM3  OOP    DS  DSA\n",
       "107  Marietta    NaN  76.0   42  96.0   24\n",
       "108   Saundra   16.0  31.0   48  80.0   31\n",
       "109   Scottie   15.0  55.0   43  70.0   45\n",
       "110      Jodie  15.0  74.0   45  73.0   21\n",
       "111    Jarrod   16.0  75.0   49  72.0   46"
      ]
     },
     "execution_count": 31,
     "metadata": {},
     "output_type": "execute_result"
    }
   ],
   "source": [
    "df.tail(5)\n"
   ]
  },
  {
   "cell_type": "code",
   "execution_count": 32,
   "id": "a12679e8",
   "metadata": {},
   "outputs": [
    {
     "data": {
      "text/html": [
       "<div>\n",
       "<style scoped>\n",
       "    .dataframe tbody tr th:only-of-type {\n",
       "        vertical-align: middle;\n",
       "    }\n",
       "\n",
       "    .dataframe tbody tr th {\n",
       "        vertical-align: top;\n",
       "    }\n",
       "\n",
       "    .dataframe thead th {\n",
       "        text-align: right;\n",
       "    }\n",
       "</style>\n",
       "<table border=\"1\" class=\"dataframe\">\n",
       "  <thead>\n",
       "    <tr style=\"text-align: right;\">\n",
       "      <th></th>\n",
       "      <th>Age</th>\n",
       "      <th>EM3</th>\n",
       "      <th>OOP</th>\n",
       "      <th>DS</th>\n",
       "      <th>DSA</th>\n",
       "    </tr>\n",
       "  </thead>\n",
       "  <tbody>\n",
       "    <tr>\n",
       "      <th>count</th>\n",
       "      <td>99.000000</td>\n",
       "      <td>105.000000</td>\n",
       "      <td>112.000000</td>\n",
       "      <td>109.000000</td>\n",
       "      <td>112.000000</td>\n",
       "    </tr>\n",
       "    <tr>\n",
       "      <th>mean</th>\n",
       "      <td>21.727273</td>\n",
       "      <td>59.857143</td>\n",
       "      <td>47.660714</td>\n",
       "      <td>80.229358</td>\n",
       "      <td>35.178571</td>\n",
       "    </tr>\n",
       "    <tr>\n",
       "      <th>std</th>\n",
       "      <td>11.345968</td>\n",
       "      <td>14.528770</td>\n",
       "      <td>6.021813</td>\n",
       "      <td>11.660024</td>\n",
       "      <td>8.936426</td>\n",
       "    </tr>\n",
       "    <tr>\n",
       "      <th>min</th>\n",
       "      <td>15.000000</td>\n",
       "      <td>30.000000</td>\n",
       "      <td>38.000000</td>\n",
       "      <td>60.000000</td>\n",
       "      <td>20.000000</td>\n",
       "    </tr>\n",
       "    <tr>\n",
       "      <th>25%</th>\n",
       "      <td>15.000000</td>\n",
       "      <td>49.000000</td>\n",
       "      <td>44.000000</td>\n",
       "      <td>72.000000</td>\n",
       "      <td>27.750000</td>\n",
       "    </tr>\n",
       "    <tr>\n",
       "      <th>50%</th>\n",
       "      <td>16.000000</td>\n",
       "      <td>62.000000</td>\n",
       "      <td>46.000000</td>\n",
       "      <td>79.000000</td>\n",
       "      <td>35.000000</td>\n",
       "    </tr>\n",
       "    <tr>\n",
       "      <th>75%</th>\n",
       "      <td>19.000000</td>\n",
       "      <td>72.000000</td>\n",
       "      <td>49.000000</td>\n",
       "      <td>91.000000</td>\n",
       "      <td>43.000000</td>\n",
       "    </tr>\n",
       "    <tr>\n",
       "      <th>max</th>\n",
       "      <td>50.000000</td>\n",
       "      <td>80.000000</td>\n",
       "      <td>69.000000</td>\n",
       "      <td>100.000000</td>\n",
       "      <td>50.000000</td>\n",
       "    </tr>\n",
       "  </tbody>\n",
       "</table>\n",
       "</div>"
      ],
      "text/plain": [
       "             Age         EM3         OOP          DS         DSA\n",
       "count  99.000000  105.000000  112.000000  109.000000  112.000000\n",
       "mean   21.727273   59.857143   47.660714   80.229358   35.178571\n",
       "std    11.345968   14.528770    6.021813   11.660024    8.936426\n",
       "min    15.000000   30.000000   38.000000   60.000000   20.000000\n",
       "25%    15.000000   49.000000   44.000000   72.000000   27.750000\n",
       "50%    16.000000   62.000000   46.000000   79.000000   35.000000\n",
       "75%    19.000000   72.000000   49.000000   91.000000   43.000000\n",
       "max    50.000000   80.000000   69.000000  100.000000   50.000000"
      ]
     },
     "execution_count": 32,
     "metadata": {},
     "output_type": "execute_result"
    }
   ],
   "source": [
    "df.describe()"
   ]
  },
  {
   "cell_type": "code",
   "execution_count": 33,
   "id": "8353f8cc",
   "metadata": {},
   "outputs": [
    {
     "name": "stdout",
     "output_type": "stream",
     "text": [
      "Dimention of data frame: (112, 6)\n",
      "Size of data frame: 672\n"
     ]
    }
   ],
   "source": [
    "shape = df.shape\n",
    "size = df.size\n",
    "print(\"Dimention of data frame: {}\".format(shape))\n",
    "print(\"Size of data frame: {}\".format(size))"
   ]
  },
  {
   "cell_type": "code",
   "execution_count": 34,
   "id": "de354f2f",
   "metadata": {},
   "outputs": [
    {
     "data": {
      "text/plain": [
       "Name     object\n",
       "Age     float64\n",
       "EM3     float64\n",
       "OOP       int64\n",
       "DS      float64\n",
       "DSA       int64\n",
       "dtype: object"
      ]
     },
     "execution_count": 34,
     "metadata": {},
     "output_type": "execute_result"
    }
   ],
   "source": [
    "df.dtypes"
   ]
  },
  {
   "cell_type": "code",
   "execution_count": 35,
   "id": "0cbb4d74",
   "metadata": {},
   "outputs": [],
   "source": [
    "df1=df.copy()"
   ]
  },
  {
   "cell_type": "markdown",
   "id": "27a79b33",
   "metadata": {},
   "source": [
    "## Checking for missing values"
   ]
  },
  {
   "cell_type": "code",
   "execution_count": 36,
   "id": "e0af9683",
   "metadata": {},
   "outputs": [
    {
     "data": {
      "text/plain": [
       "Name     0\n",
       "Age     13\n",
       "EM3      7\n",
       "OOP      0\n",
       "DS       3\n",
       "DSA      0\n",
       "dtype: int64"
      ]
     },
     "execution_count": 36,
     "metadata": {},
     "output_type": "execute_result"
    }
   ],
   "source": [
    "df1.isna().sum()"
   ]
  },
  {
   "cell_type": "code",
   "execution_count": 37,
   "id": "b6da086b",
   "metadata": {},
   "outputs": [],
   "source": [
    "#replacing missing values by mean value\n",
    "df1[\"EM3\"]=df1[\"EM3\"].fillna(df1[\"EM3\"].mean())\n",
    "df1[\"DS\"]=df1[\"DS\"].fillna(df1[\"DS\"].mean())\n",
    "df1[\"Age\"]=df1[\"Age\"].fillna(df1[\"Age\"].mean())"
   ]
  },
  {
   "cell_type": "code",
   "execution_count": 38,
   "id": "910ec2af",
   "metadata": {},
   "outputs": [
    {
     "data": {
      "text/plain": [
       "Name    0\n",
       "Age     0\n",
       "EM3     0\n",
       "OOP     0\n",
       "DS      0\n",
       "DSA     0\n",
       "dtype: int64"
      ]
     },
     "execution_count": 38,
     "metadata": {},
     "output_type": "execute_result"
    }
   ],
   "source": [
    "df1.isna().sum()"
   ]
  },
  {
   "cell_type": "markdown",
   "id": "25b8d277",
   "metadata": {},
   "source": [
    "## checking for outliers"
   ]
  },
  {
   "cell_type": "code",
   "execution_count": 39,
   "id": "6b3d989f",
   "metadata": {},
   "outputs": [
    {
     "data": {
      "text/html": [
       "<div>\n",
       "<style scoped>\n",
       "    .dataframe tbody tr th:only-of-type {\n",
       "        vertical-align: middle;\n",
       "    }\n",
       "\n",
       "    .dataframe tbody tr th {\n",
       "        vertical-align: top;\n",
       "    }\n",
       "\n",
       "    .dataframe thead th {\n",
       "        text-align: right;\n",
       "    }\n",
       "</style>\n",
       "<table border=\"1\" class=\"dataframe\">\n",
       "  <thead>\n",
       "    <tr style=\"text-align: right;\">\n",
       "      <th></th>\n",
       "      <th>Age</th>\n",
       "      <th>EM3</th>\n",
       "      <th>OOP</th>\n",
       "      <th>DS</th>\n",
       "      <th>DSA</th>\n",
       "    </tr>\n",
       "  </thead>\n",
       "  <tbody>\n",
       "    <tr>\n",
       "      <th>count</th>\n",
       "      <td>99.000000</td>\n",
       "      <td>105.000000</td>\n",
       "      <td>112.000000</td>\n",
       "      <td>109.000000</td>\n",
       "      <td>112.000000</td>\n",
       "    </tr>\n",
       "    <tr>\n",
       "      <th>mean</th>\n",
       "      <td>21.727273</td>\n",
       "      <td>59.857143</td>\n",
       "      <td>47.660714</td>\n",
       "      <td>80.229358</td>\n",
       "      <td>35.178571</td>\n",
       "    </tr>\n",
       "    <tr>\n",
       "      <th>std</th>\n",
       "      <td>11.345968</td>\n",
       "      <td>14.528770</td>\n",
       "      <td>6.021813</td>\n",
       "      <td>11.660024</td>\n",
       "      <td>8.936426</td>\n",
       "    </tr>\n",
       "    <tr>\n",
       "      <th>min</th>\n",
       "      <td>15.000000</td>\n",
       "      <td>30.000000</td>\n",
       "      <td>38.000000</td>\n",
       "      <td>60.000000</td>\n",
       "      <td>20.000000</td>\n",
       "    </tr>\n",
       "    <tr>\n",
       "      <th>25%</th>\n",
       "      <td>15.000000</td>\n",
       "      <td>49.000000</td>\n",
       "      <td>44.000000</td>\n",
       "      <td>72.000000</td>\n",
       "      <td>27.750000</td>\n",
       "    </tr>\n",
       "    <tr>\n",
       "      <th>50%</th>\n",
       "      <td>16.000000</td>\n",
       "      <td>62.000000</td>\n",
       "      <td>46.000000</td>\n",
       "      <td>79.000000</td>\n",
       "      <td>35.000000</td>\n",
       "    </tr>\n",
       "    <tr>\n",
       "      <th>75%</th>\n",
       "      <td>19.000000</td>\n",
       "      <td>72.000000</td>\n",
       "      <td>49.000000</td>\n",
       "      <td>91.000000</td>\n",
       "      <td>43.000000</td>\n",
       "    </tr>\n",
       "    <tr>\n",
       "      <th>max</th>\n",
       "      <td>50.000000</td>\n",
       "      <td>80.000000</td>\n",
       "      <td>69.000000</td>\n",
       "      <td>100.000000</td>\n",
       "      <td>50.000000</td>\n",
       "    </tr>\n",
       "  </tbody>\n",
       "</table>\n",
       "</div>"
      ],
      "text/plain": [
       "             Age         EM3         OOP          DS         DSA\n",
       "count  99.000000  105.000000  112.000000  109.000000  112.000000\n",
       "mean   21.727273   59.857143   47.660714   80.229358   35.178571\n",
       "std    11.345968   14.528770    6.021813   11.660024    8.936426\n",
       "min    15.000000   30.000000   38.000000   60.000000   20.000000\n",
       "25%    15.000000   49.000000   44.000000   72.000000   27.750000\n",
       "50%    16.000000   62.000000   46.000000   79.000000   35.000000\n",
       "75%    19.000000   72.000000   49.000000   91.000000   43.000000\n",
       "max    50.000000   80.000000   69.000000  100.000000   50.000000"
      ]
     },
     "execution_count": 39,
     "metadata": {},
     "output_type": "execute_result"
    }
   ],
   "source": [
    "df.describe()"
   ]
  },
  {
   "cell_type": "code",
   "execution_count": 40,
   "id": "58c0dc2e",
   "metadata": {},
   "outputs": [
    {
     "name": "stderr",
     "output_type": "stream",
     "text": [
      "C:\\Users\\Rutuja\\anaconda3\\lib\\site-packages\\seaborn\\distributions.py:2619: FutureWarning: `distplot` is a deprecated function and will be removed in a future version. Please adapt your code to use either `displot` (a figure-level function with similar flexibility) or `histplot` (an axes-level function for histograms).\n",
      "  warnings.warn(msg, FutureWarning)\n"
     ]
    },
    {
     "data": {
      "text/plain": [
       "<AxesSubplot:xlabel='Age', ylabel='Density'>"
      ]
     },
     "execution_count": 40,
     "metadata": {},
     "output_type": "execute_result"
    },
    {
     "data": {
      "image/png": "[encoded data removed]",
      "text/plain": [
       "<Figure size 432x288 with 1 Axes>"
      ]
     },
     "metadata": {
      "needs_background": "light"
     },
     "output_type": "display_data"
    }
   ],
   "source": [
    "sns.distplot(df1['Age'])"
   ]
  },
  {
   "cell_type": "code",
   "execution_count": 41,
   "id": "91474463",
   "metadata": {},
   "outputs": [],
   "source": [
    "df1[\"Age\"]=df1[\"Age\"].astype('int')"
   ]
  },
  {
   "cell_type": "code",
   "execution_count": 42,
   "id": "eb361dd8",
   "metadata": {},
   "outputs": [
    {
     "data": {
      "text/plain": [
       "(6.0, 30.0)"
      ]
     },
     "execution_count": 42,
     "metadata": {},
     "output_type": "execute_result"
    }
   ],
   "source": [
    "Q1 = df1.Age.quantile(0.25)\n",
    "Q3 = df1.Age.quantile(0.75)\n",
    "\n",
    "\n",
    "#IQR\n",
    "IQR = Q3-Q1\n",
    "\n",
    "lower_limit = Q1 - 1.5*IQR\n",
    "upper_limit = Q3 + 1.5*IQR\n",
    "lower_limit, upper_limit"
   ]
  },
  {
   "cell_type": "code",
   "execution_count": 43,
   "id": "ef1564cf",
   "metadata": {},
   "outputs": [
    {
     "data": {
      "text/html": [
       "<div>\n",
       "<style scoped>\n",
       "    .dataframe tbody tr th:only-of-type {\n",
       "        vertical-align: middle;\n",
       "    }\n",
       "\n",
       "    .dataframe tbody tr th {\n",
       "        vertical-align: top;\n",
       "    }\n",
       "\n",
       "    .dataframe thead th {\n",
       "        text-align: right;\n",
       "    }\n",
       "</style>\n",
       "<table border=\"1\" class=\"dataframe\">\n",
       "  <thead>\n",
       "    <tr style=\"text-align: right;\">\n",
       "      <th></th>\n",
       "      <th>Name</th>\n",
       "      <th>Age</th>\n",
       "      <th>EM3</th>\n",
       "      <th>OOP</th>\n",
       "      <th>DS</th>\n",
       "      <th>DSA</th>\n",
       "    </tr>\n",
       "  </thead>\n",
       "  <tbody>\n",
       "    <tr>\n",
       "      <th>2</th>\n",
       "      <td>Alan</td>\n",
       "      <td>40</td>\n",
       "      <td>71.000000</td>\n",
       "      <td>41</td>\n",
       "      <td>100.000000</td>\n",
       "      <td>38</td>\n",
       "    </tr>\n",
       "    <tr>\n",
       "      <th>4</th>\n",
       "      <td>Rachel</td>\n",
       "      <td>49</td>\n",
       "      <td>80.000000</td>\n",
       "      <td>44</td>\n",
       "      <td>72.000000</td>\n",
       "      <td>49</td>\n",
       "    </tr>\n",
       "    <tr>\n",
       "      <th>5</th>\n",
       "      <td>Rebecca</td>\n",
       "      <td>41</td>\n",
       "      <td>66.000000</td>\n",
       "      <td>45</td>\n",
       "      <td>91.000000</td>\n",
       "      <td>32</td>\n",
       "    </tr>\n",
       "    <tr>\n",
       "      <th>9</th>\n",
       "      <td>Lily</td>\n",
       "      <td>42</td>\n",
       "      <td>70.000000</td>\n",
       "      <td>55</td>\n",
       "      <td>63.000000</td>\n",
       "      <td>31</td>\n",
       "    </tr>\n",
       "    <tr>\n",
       "      <th>10</th>\n",
       "      <td>Lisa</td>\n",
       "      <td>43</td>\n",
       "      <td>59.857143</td>\n",
       "      <td>44</td>\n",
       "      <td>82.000000</td>\n",
       "      <td>23</td>\n",
       "    </tr>\n",
       "    <tr>\n",
       "      <th>12</th>\n",
       "      <td>Maria</td>\n",
       "      <td>44</td>\n",
       "      <td>79.000000</td>\n",
       "      <td>45</td>\n",
       "      <td>80.229358</td>\n",
       "      <td>40</td>\n",
       "    </tr>\n",
       "    <tr>\n",
       "      <th>14</th>\n",
       "      <td>Megan</td>\n",
       "      <td>44</td>\n",
       "      <td>56.000000</td>\n",
       "      <td>41</td>\n",
       "      <td>89.000000</td>\n",
       "      <td>39</td>\n",
       "    </tr>\n",
       "    <tr>\n",
       "      <th>19</th>\n",
       "      <td>Nicola</td>\n",
       "      <td>45</td>\n",
       "      <td>71.000000</td>\n",
       "      <td>44</td>\n",
       "      <td>85.000000</td>\n",
       "      <td>37</td>\n",
       "    </tr>\n",
       "    <tr>\n",
       "      <th>22</th>\n",
       "      <td>Nicola</td>\n",
       "      <td>46</td>\n",
       "      <td>75.000000</td>\n",
       "      <td>42</td>\n",
       "      <td>74.000000</td>\n",
       "      <td>44</td>\n",
       "    </tr>\n",
       "    <tr>\n",
       "      <th>25</th>\n",
       "      <td>Joseph</td>\n",
       "      <td>47</td>\n",
       "      <td>77.000000</td>\n",
       "      <td>61</td>\n",
       "      <td>80.229358</td>\n",
       "      <td>41</td>\n",
       "    </tr>\n",
       "    <tr>\n",
       "      <th>30</th>\n",
       "      <td>Isaac</td>\n",
       "      <td>48</td>\n",
       "      <td>61.000000</td>\n",
       "      <td>65</td>\n",
       "      <td>71.000000</td>\n",
       "      <td>45</td>\n",
       "    </tr>\n",
       "    <tr>\n",
       "      <th>40</th>\n",
       "      <td>Stewart</td>\n",
       "      <td>48</td>\n",
       "      <td>54.000000</td>\n",
       "      <td>46</td>\n",
       "      <td>69.000000</td>\n",
       "      <td>20</td>\n",
       "    </tr>\n",
       "    <tr>\n",
       "      <th>50</th>\n",
       "      <td>Leonard</td>\n",
       "      <td>43</td>\n",
       "      <td>61.000000</td>\n",
       "      <td>43</td>\n",
       "      <td>60.000000</td>\n",
       "      <td>42</td>\n",
       "    </tr>\n",
       "    <tr>\n",
       "      <th>87</th>\n",
       "      <td>Marcelo</td>\n",
       "      <td>44</td>\n",
       "      <td>66.000000</td>\n",
       "      <td>59</td>\n",
       "      <td>88.000000</td>\n",
       "      <td>50</td>\n",
       "    </tr>\n",
       "    <tr>\n",
       "      <th>94</th>\n",
       "      <td>Tomas</td>\n",
       "      <td>41</td>\n",
       "      <td>70.000000</td>\n",
       "      <td>45</td>\n",
       "      <td>61.000000</td>\n",
       "      <td>47</td>\n",
       "    </tr>\n",
       "    <tr>\n",
       "      <th>99</th>\n",
       "      <td>Russell</td>\n",
       "      <td>40</td>\n",
       "      <td>53.000000</td>\n",
       "      <td>56</td>\n",
       "      <td>89.000000</td>\n",
       "      <td>31</td>\n",
       "    </tr>\n",
       "    <tr>\n",
       "      <th>104</th>\n",
       "      <td>Kristin</td>\n",
       "      <td>44</td>\n",
       "      <td>79.000000</td>\n",
       "      <td>46</td>\n",
       "      <td>83.000000</td>\n",
       "      <td>42</td>\n",
       "    </tr>\n",
       "    <tr>\n",
       "      <th>105</th>\n",
       "      <td>Bradly</td>\n",
       "      <td>48</td>\n",
       "      <td>60.000000</td>\n",
       "      <td>47</td>\n",
       "      <td>82.000000</td>\n",
       "      <td>35</td>\n",
       "    </tr>\n",
       "    <tr>\n",
       "      <th>106</th>\n",
       "      <td>Aileen</td>\n",
       "      <td>50</td>\n",
       "      <td>48.000000</td>\n",
       "      <td>44</td>\n",
       "      <td>78.000000</td>\n",
       "      <td>48</td>\n",
       "    </tr>\n",
       "  </tbody>\n",
       "</table>\n",
       "</div>"
      ],
      "text/plain": [
       "         Name  Age        EM3  OOP          DS  DSA\n",
       "2        Alan   40  71.000000   41  100.000000   38\n",
       "4      Rachel   49  80.000000   44   72.000000   49\n",
       "5     Rebecca   41  66.000000   45   91.000000   32\n",
       "9        Lily   42  70.000000   55   63.000000   31\n",
       "10       Lisa   43  59.857143   44   82.000000   23\n",
       "12      Maria   44  79.000000   45   80.229358   40\n",
       "14      Megan   44  56.000000   41   89.000000   39\n",
       "19     Nicola   45  71.000000   44   85.000000   37\n",
       "22     Nicola   46  75.000000   42   74.000000   44\n",
       "25     Joseph   47  77.000000   61   80.229358   41\n",
       "30      Isaac   48  61.000000   65   71.000000   45\n",
       "40    Stewart   48  54.000000   46   69.000000   20\n",
       "50    Leonard   43  61.000000   43   60.000000   42\n",
       "87   Marcelo    44  66.000000   59   88.000000   50\n",
       "94     Tomas    41  70.000000   45   61.000000   47\n",
       "99   Russell    40  53.000000   56   89.000000   31\n",
       "104  Kristin    44  79.000000   46   83.000000   42\n",
       "105   Bradly    48  60.000000   47   82.000000   35\n",
       "106   Aileen    50  48.000000   44   78.000000   48"
      ]
     },
     "execution_count": 43,
     "metadata": {},
     "output_type": "execute_result"
    }
   ],
   "source": [
    "df1[(df1.Age<lower_limit)|(df1.Age>upper_limit)]"
   ]
  },
  {
   "cell_type": "code",
   "execution_count": 44,
   "id": "70692d5d",
   "metadata": {},
   "outputs": [
    {
     "data": {
      "text/html": [
       "<div>\n",
       "<style scoped>\n",
       "    .dataframe tbody tr th:only-of-type {\n",
       "        vertical-align: middle;\n",
       "    }\n",
       "\n",
       "    .dataframe tbody tr th {\n",
       "        vertical-align: top;\n",
       "    }\n",
       "\n",
       "    .dataframe thead th {\n",
       "        text-align: right;\n",
       "    }\n",
       "</style>\n",
       "<table border=\"1\" class=\"dataframe\">\n",
       "  <thead>\n",
       "    <tr style=\"text-align: right;\">\n",
       "      <th></th>\n",
       "      <th>Name</th>\n",
       "      <th>Age</th>\n",
       "      <th>EM3</th>\n",
       "      <th>OOP</th>\n",
       "      <th>DS</th>\n",
       "      <th>DSA</th>\n",
       "    </tr>\n",
       "  </thead>\n",
       "  <tbody>\n",
       "    <tr>\n",
       "      <th>0</th>\n",
       "      <td>Adam</td>\n",
       "      <td>16</td>\n",
       "      <td>70.0</td>\n",
       "      <td>40</td>\n",
       "      <td>92.0</td>\n",
       "      <td>26</td>\n",
       "    </tr>\n",
       "    <tr>\n",
       "      <th>1</th>\n",
       "      <td>Adrian</td>\n",
       "      <td>16</td>\n",
       "      <td>77.0</td>\n",
       "      <td>41</td>\n",
       "      <td>64.0</td>\n",
       "      <td>21</td>\n",
       "    </tr>\n",
       "    <tr>\n",
       "      <th>3</th>\n",
       "      <td>Alexander</td>\n",
       "      <td>17</td>\n",
       "      <td>65.0</td>\n",
       "      <td>48</td>\n",
       "      <td>68.0</td>\n",
       "      <td>25</td>\n",
       "    </tr>\n",
       "    <tr>\n",
       "      <th>6</th>\n",
       "      <td>Rose</td>\n",
       "      <td>19</td>\n",
       "      <td>54.0</td>\n",
       "      <td>49</td>\n",
       "      <td>94.0</td>\n",
       "      <td>35</td>\n",
       "    </tr>\n",
       "    <tr>\n",
       "      <th>7</th>\n",
       "      <td>Ruth</td>\n",
       "      <td>15</td>\n",
       "      <td>72.0</td>\n",
       "      <td>50</td>\n",
       "      <td>98.0</td>\n",
       "      <td>42</td>\n",
       "    </tr>\n",
       "    <tr>\n",
       "      <th>...</th>\n",
       "      <td>...</td>\n",
       "      <td>...</td>\n",
       "      <td>...</td>\n",
       "      <td>...</td>\n",
       "      <td>...</td>\n",
       "      <td>...</td>\n",
       "    </tr>\n",
       "    <tr>\n",
       "      <th>107</th>\n",
       "      <td>Marietta</td>\n",
       "      <td>21</td>\n",
       "      <td>76.0</td>\n",
       "      <td>42</td>\n",
       "      <td>96.0</td>\n",
       "      <td>24</td>\n",
       "    </tr>\n",
       "    <tr>\n",
       "      <th>108</th>\n",
       "      <td>Saundra</td>\n",
       "      <td>16</td>\n",
       "      <td>31.0</td>\n",
       "      <td>48</td>\n",
       "      <td>80.0</td>\n",
       "      <td>31</td>\n",
       "    </tr>\n",
       "    <tr>\n",
       "      <th>109</th>\n",
       "      <td>Scottie</td>\n",
       "      <td>15</td>\n",
       "      <td>55.0</td>\n",
       "      <td>43</td>\n",
       "      <td>70.0</td>\n",
       "      <td>45</td>\n",
       "    </tr>\n",
       "    <tr>\n",
       "      <th>110</th>\n",
       "      <td>Jodie</td>\n",
       "      <td>15</td>\n",
       "      <td>74.0</td>\n",
       "      <td>45</td>\n",
       "      <td>73.0</td>\n",
       "      <td>21</td>\n",
       "    </tr>\n",
       "    <tr>\n",
       "      <th>111</th>\n",
       "      <td>Jarrod</td>\n",
       "      <td>16</td>\n",
       "      <td>75.0</td>\n",
       "      <td>49</td>\n",
       "      <td>72.0</td>\n",
       "      <td>46</td>\n",
       "    </tr>\n",
       "  </tbody>\n",
       "</table>\n",
       "<p>93 rows × 6 columns</p>\n",
       "</div>"
      ],
      "text/plain": [
       "          Name  Age   EM3  OOP    DS  DSA\n",
       "0         Adam   16  70.0   40  92.0   26\n",
       "1       Adrian   16  77.0   41  64.0   21\n",
       "3    Alexander   17  65.0   48  68.0   25\n",
       "6         Rose   19  54.0   49  94.0   35\n",
       "7         Ruth   15  72.0   50  98.0   42\n",
       "..         ...  ...   ...  ...   ...  ...\n",
       "107  Marietta    21  76.0   42  96.0   24\n",
       "108   Saundra    16  31.0   48  80.0   31\n",
       "109   Scottie    15  55.0   43  70.0   45\n",
       "110      Jodie   15  74.0   45  73.0   21\n",
       "111    Jarrod    16  75.0   49  72.0   46\n",
       "\n",
       "[93 rows x 6 columns]"
      ]
     },
     "execution_count": 44,
     "metadata": {},
     "output_type": "execute_result"
    }
   ],
   "source": [
    " df1[(df1.Age>lower_limit)&(df1.Age<upper_limit)]"
   ]
  },
  {
   "cell_type": "code",
   "execution_count": 45,
   "id": "ebdeeb3d",
   "metadata": {},
   "outputs": [
    {
     "data": {
      "text/plain": [
       "17.0"
      ]
     },
     "execution_count": 45,
     "metadata": {},
     "output_type": "execute_result"
    }
   ],
   "source": [
    "m=df1['Age'].median()\n",
    "m"
   ]
  },
  {
   "cell_type": "code",
   "execution_count": 46,
   "id": "61fc09ca",
   "metadata": {},
   "outputs": [],
   "source": [
    "df1['Age']=np.where(((df1.Age<lower_limit)|(df1.Age>upper_limit)),m,df1['Age'])\n"
   ]
  },
  {
   "cell_type": "code",
   "execution_count": 47,
   "id": "4e3688bd",
   "metadata": {},
   "outputs": [
    {
     "data": {
      "text/html": [
       "<div>\n",
       "<style scoped>\n",
       "    .dataframe tbody tr th:only-of-type {\n",
       "        vertical-align: middle;\n",
       "    }\n",
       "\n",
       "    .dataframe tbody tr th {\n",
       "        vertical-align: top;\n",
       "    }\n",
       "\n",
       "    .dataframe thead th {\n",
       "        text-align: right;\n",
       "    }\n",
       "</style>\n",
       "<table border=\"1\" class=\"dataframe\">\n",
       "  <thead>\n",
       "    <tr style=\"text-align: right;\">\n",
       "      <th></th>\n",
       "      <th>Name</th>\n",
       "      <th>Age</th>\n",
       "      <th>EM3</th>\n",
       "      <th>OOP</th>\n",
       "      <th>DS</th>\n",
       "      <th>DSA</th>\n",
       "    </tr>\n",
       "  </thead>\n",
       "  <tbody>\n",
       "  </tbody>\n",
       "</table>\n",
       "</div>"
      ],
      "text/plain": [
       "Empty DataFrame\n",
       "Columns: [Name, Age, EM3, OOP, DS, DSA]\n",
       "Index: []"
      ]
     },
     "execution_count": 47,
     "metadata": {},
     "output_type": "execute_result"
    }
   ],
   "source": [
    "df1[(df1.Age<lower_limit)|(df1.Age>upper_limit)]"
   ]
  },
  {
   "cell_type": "markdown",
   "id": "960aedf6",
   "metadata": {},
   "source": [
    "## data transformation"
   ]
  },
  {
   "cell_type": "code",
   "execution_count": 48,
   "id": "d9fe5763",
   "metadata": {},
   "outputs": [
    {
     "data": {
      "text/plain": [
       "1.2930530586908944"
      ]
     },
     "execution_count": 48,
     "metadata": {},
     "output_type": "execute_result"
    }
   ],
   "source": [
    "\n",
    "#skew(df1[\"OOP\"])"
   ]
  },
  {
   "cell_type": "code",
   "execution_count": 49,
   "id": "707671a7",
   "metadata": {},
   "outputs": [
    {
     "name": "stderr",
     "output_type": "stream",
     "text": [
      "C:\\Users\\Rutuja\\anaconda3\\lib\\site-packages\\seaborn\\distributions.py:2619: FutureWarning: `distplot` is a deprecated function and will be removed in a future version. Please adapt your code to use either `displot` (a figure-level function with similar flexibility) or `histplot` (an axes-level function for histograms).\n",
      "  warnings.warn(msg, FutureWarning)\n"
     ]
    },
    {
     "data": {
      "text/plain": [
       "<AxesSubplot:xlabel='OOP', ylabel='Density'>"
      ]
     },
     "execution_count": 49,
     "metadata": {},
     "output_type": "execute_result"
    },
    {
     "data": {
      "image/png": "[encoded data removed]",
      "text/plain": [
       "<Figure size 432x288 with 1 Axes>"
      ]
     },
     "metadata": {
      "needs_background": "light"
     },
     "output_type": "display_data"
    }
   ],
   "source": [
    "sns.distplot(df1['OOP'])"
   ]
  },
  {
   "cell_type": "code",
   "execution_count": 50,
   "id": "0d1890d3",
   "metadata": {},
   "outputs": [
    {
     "name": "stderr",
     "output_type": "stream",
     "text": [
      "C:\\Users\\Rutuja\\anaconda3\\lib\\site-packages\\seaborn\\distributions.py:2619: FutureWarning: `distplot` is a deprecated function and will be removed in a future version. Please adapt your code to use either `displot` (a figure-level function with similar flexibility) or `histplot` (an axes-level function for histograms).\n",
      "  warnings.warn(msg, FutureWarning)\n"
     ]
    },
    {
     "data": {
      "text/plain": [
       "<AxesSubplot:xlabel='sqrt_OOP', ylabel='Density'>"
      ]
     },
     "execution_count": 50,
     "metadata": {},
     "output_type": "execute_result"
    },
    {
     "data": {
      "image/png": "[encoded data removed]",
      "text/plain": [
       "<Figure size 432x288 with 1 Axes>"
      ]
     },
     "metadata": {
      "needs_background": "light"
     },
     "output_type": "display_data"
    }
   ],
   "source": [
    "df1['sqrt_OOP'] = df1['OOP'].apply(np.sqrt)\n",
    "sns.distplot(df1['sqrt_OOP'])"
   ]
  },
  {
   "cell_type": "code",
   "execution_count": 52,
   "id": "e6c1d172",
   "metadata": {},
   "outputs": [
    {
     "data": {
      "text/plain": [
       "1.1333725258463954"
      ]
     },
     "execution_count": 52,
     "metadata": {},
     "output_type": "execute_result"
    }
   ],
   "source": [
    "#skew(df1[\"sqrt_OOP\"])"
   ]
  },
  {
   "cell_type": "code",
   "execution_count": 26,
   "id": "05c21c20",
   "metadata": {},
   "outputs": [
    {
     "data": {
      "text/html": [
       "<div>\n",
       "<style scoped>\n",
       "    .dataframe tbody tr th:only-of-type {\n",
       "        vertical-align: middle;\n",
       "    }\n",
       "\n",
       "    .dataframe tbody tr th {\n",
       "        vertical-align: top;\n",
       "    }\n",
       "\n",
       "    .dataframe thead th {\n",
       "        text-align: right;\n",
       "    }\n",
       "</style>\n",
       "<table border=\"1\" class=\"dataframe\">\n",
       "  <thead>\n",
       "    <tr style=\"text-align: right;\">\n",
       "      <th></th>\n",
       "      <th>Age</th>\n",
       "      <th>EM3</th>\n",
       "      <th>OOP</th>\n",
       "      <th>DS</th>\n",
       "      <th>DSA</th>\n",
       "      <th>sqrt_OOP</th>\n",
       "    </tr>\n",
       "  </thead>\n",
       "  <tbody>\n",
       "    <tr>\n",
       "      <th>count</th>\n",
       "      <td>112.000000</td>\n",
       "      <td>112.000000</td>\n",
       "      <td>112.000000</td>\n",
       "      <td>112.000000</td>\n",
       "      <td>112.000000</td>\n",
       "      <td>112.000000</td>\n",
       "    </tr>\n",
       "    <tr>\n",
       "      <th>mean</th>\n",
       "      <td>16.964286</td>\n",
       "      <td>59.857143</td>\n",
       "      <td>47.660714</td>\n",
       "      <td>80.229358</td>\n",
       "      <td>35.178571</td>\n",
       "      <td>6.890878</td>\n",
       "    </tr>\n",
       "    <tr>\n",
       "      <th>std</th>\n",
       "      <td>1.926246</td>\n",
       "      <td>14.063196</td>\n",
       "      <td>6.021813</td>\n",
       "      <td>11.501377</td>\n",
       "      <td>8.936426</td>\n",
       "      <td>0.422019</td>\n",
       "    </tr>\n",
       "    <tr>\n",
       "      <th>min</th>\n",
       "      <td>15.000000</td>\n",
       "      <td>30.000000</td>\n",
       "      <td>38.000000</td>\n",
       "      <td>60.000000</td>\n",
       "      <td>20.000000</td>\n",
       "      <td>6.164414</td>\n",
       "    </tr>\n",
       "    <tr>\n",
       "      <th>25%</th>\n",
       "      <td>15.000000</td>\n",
       "      <td>49.750000</td>\n",
       "      <td>44.000000</td>\n",
       "      <td>72.000000</td>\n",
       "      <td>27.750000</td>\n",
       "      <td>6.633250</td>\n",
       "    </tr>\n",
       "    <tr>\n",
       "      <th>50%</th>\n",
       "      <td>17.000000</td>\n",
       "      <td>61.000000</td>\n",
       "      <td>46.000000</td>\n",
       "      <td>80.000000</td>\n",
       "      <td>35.000000</td>\n",
       "      <td>6.782330</td>\n",
       "    </tr>\n",
       "    <tr>\n",
       "      <th>75%</th>\n",
       "      <td>17.000000</td>\n",
       "      <td>72.000000</td>\n",
       "      <td>49.000000</td>\n",
       "      <td>90.250000</td>\n",
       "      <td>43.000000</td>\n",
       "      <td>7.000000</td>\n",
       "    </tr>\n",
       "    <tr>\n",
       "      <th>max</th>\n",
       "      <td>21.000000</td>\n",
       "      <td>80.000000</td>\n",
       "      <td>69.000000</td>\n",
       "      <td>100.000000</td>\n",
       "      <td>50.000000</td>\n",
       "      <td>8.306624</td>\n",
       "    </tr>\n",
       "  </tbody>\n",
       "</table>\n",
       "</div>"
      ],
      "text/plain": [
       "              Age         EM3         OOP          DS         DSA    sqrt_OOP\n",
       "count  112.000000  112.000000  112.000000  112.000000  112.000000  112.000000\n",
       "mean    16.964286   59.857143   47.660714   80.229358   35.178571    6.890878\n",
       "std      1.926246   14.063196    6.021813   11.501377    8.936426    0.422019\n",
       "min     15.000000   30.000000   38.000000   60.000000   20.000000    6.164414\n",
       "25%     15.000000   49.750000   44.000000   72.000000   27.750000    6.633250\n",
       "50%     17.000000   61.000000   46.000000   80.000000   35.000000    6.782330\n",
       "75%     17.000000   72.000000   49.000000   90.250000   43.000000    7.000000\n",
       "max     21.000000   80.000000   69.000000  100.000000   50.000000    8.306624"
      ]
     },
     "execution_count": 26,
     "metadata": {},
     "output_type": "execute_result"
    }
   ],
   "source": [
    "df1.describe()"
   ]
  },
  {
   "cell_type": "code",
   "execution_count": null,
   "id": "3fa4d304",
   "metadata": {},
   "outputs": [],
   "source": []
  }
 ],
 "metadata": {
  "kernelspec": {
   "display_name": "Python 3 (ipykernel)",
   "language": "python",
   "name": "python3"
  },
  "language_info": {
   "codemirror_mode": {
    "name": "ipython",
    "version": 3
   },
   "file_extension": ".py",
   "mimetype": "text/x-python",
   "name": "python",
   "nbconvert_exporter": "python",
   "pygments_lexer": "ipython3",
   "version": "3.9.7"
  }
 },
 "nbformat": 4,
 "nbformat_minor": 5
}
