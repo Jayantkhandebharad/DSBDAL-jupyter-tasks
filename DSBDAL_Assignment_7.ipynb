{
 "cells": [
  {
   "cell_type": "markdown",
   "id": "797539bf",
   "metadata": {},
   "source": [
    "**Text Analytics**\n",
    "1. Extract Sample document and apply following document preprocessing methods: Tokenization, POS Tagging, stop words removal, Stemming and Lemmatization.\n",
    "2. Create representation of document by calculating Term Frequency and Inverse Document Frequency."
   ]
  },
  {
   "cell_type": "markdown",
   "id": "235581e4",
   "metadata": {},
   "source": [
    "# Setup"
   ]
  },
  {
   "cell_type": "code",
   "execution_count": 79,
   "id": "d08a6d70",
   "metadata": {},
   "outputs": [
    {
     "name": "stderr",
     "output_type": "stream",
     "text": [
      "[nltk_data] Downloading package punkt to /home/pict/nltk_data...\n",
      "[nltk_data]   Package punkt is already up-to-date!\n",
      "[nltk_data] Downloading package stopwords to /home/pict/nltk_data...\n",
      "[nltk_data]   Package stopwords is already up-to-date!\n",
      "[nltk_data] Downloading package averaged_perceptron_tagger to\n",
      "[nltk_data]     /home/pict/nltk_data...\n",
      "[nltk_data]   Package averaged_perceptron_tagger is already up-to-\n",
      "[nltk_data]       date!\n",
      "[nltk_data] Downloading package wordnet to /home/pict/nltk_data...\n",
      "[nltk_data]   Package wordnet is already up-to-date!\n",
      "[nltk_data] Downloading package omw-1.4 to /home/pict/nltk_data...\n",
      "[nltk_data]   Unzipping corpora/omw-1.4.zip.\n"
     ]
    },
    {
     "data": {
      "text/plain": [
       "True"
      ]
     },
     "execution_count": 79,
     "metadata": {},
     "output_type": "execute_result"
    }
   ],
   "source": [
    "import nltk\n",
    "nltk.download('punkt')\n",
    "nltk.download('stopwords')\n",
    "nltk.download('averaged_perceptron_tagger')\n",
    "nltk.download('wordnet')\n",
    "nltk.download('omw-1.4')"
   ]
  },
  {
   "cell_type": "code",
   "execution_count": 81,
   "id": "32a1a0a1",
   "metadata": {},
   "outputs": [],
   "source": [
    "from nltk.tokenize import sent_tokenize, word_tokenize\n",
    "from nltk.corpus import stopwords\n",
    "from nltk.stem import PorterStemmer, WordNetLemmatizer\n",
    "from sklearn.feature_extraction.text import TfidfVectorizer\n",
    "from sklearn.metrics.pairwise import cosine_similarity\n",
    "from sklearn.metrics import pairwise_distances\n",
    "from sklearn.metrics.pairwise import euclidean_distances\n",
    "from scipy.spatial import distance\n",
    "import pandas as pd\n",
    "import numpy as np"
   ]
  },
  {
   "cell_type": "markdown",
   "id": "3eee8b4f",
   "metadata": {},
   "source": [
    "# Reading the data from the text file"
   ]
  },
  {
   "cell_type": "code",
   "execution_count": 51,
   "id": "1d4ce956",
   "metadata": {},
   "outputs": [],
   "source": [
    "with open('./paragraph.txt') as f:\n",
    "    paragraph = f.read()\n",
    "    paragraph = paragraph.lower()"
   ]
  },
  {
   "cell_type": "code",
   "execution_count": 52,
   "id": "960a8acf",
   "metadata": {},
   "outputs": [
    {
     "data": {
      "text/plain": [
       "'the european union said it had joined members of the council of the baltic sea states (cbss) in suspending russia and belarus from the council\\'s activities.\\n\\n\"this decision is a part of the european union\\'s and like-minded partners response to russia\\'s invasion of ukraine and the involvement of belarus in this unprovoked and unjustified aggression,\" it said on saturday.\\n\\nrussia declared a partial ceasefire on saturday to allow humanitarian corridors out of the ukrainian cities of mariupol and volnovakha, russia\\'s defence ministry said.\\n\\nthe partial ceasefire will allow civilians to leave the city during a five-hour period from saturday morning, the city authorities said. civilians will be allowed to leave mariupol between noon and 5 p.m. moscow time (0900 - 1400 gmt)\\n\\nwestern allies have moved to isolate russia\\'s economy and financial system since its invasion of ukraine, including sanctioning its central bank and oligarchs who amassed fortunes and political influence under vladimir putin.\\nrussian president vladimir putin launched what he called a special military operation before dawn on february 24, ignoring western warnings and saying the \"neo-nazis\" ruling ukraine threatened russia\\'s security. russia\\'s assault is said to be the biggest on a european state since world war two and threatens to upend the continent\\'s post-cold war order.\\n'"
      ]
     },
     "execution_count": 52,
     "metadata": {},
     "output_type": "execute_result"
    }
   ],
   "source": [
    "paragraph"
   ]
  },
  {
   "cell_type": "markdown",
   "id": "fb869e18",
   "metadata": {},
   "source": [
    "# Tokenization\n",
    "Tokenization is the first step when working with language tasks, it simplifies the input data by splitting it into sentences or words, as per the requirement"
   ]
  },
  {
   "cell_type": "code",
   "execution_count": 53,
   "id": "dd7c029c",
   "metadata": {},
   "outputs": [],
   "source": [
    "# Sentence tokenization\n",
    "sentence_tokens = sent_tokenize(paragraph)"
   ]
  },
  {
   "cell_type": "code",
   "execution_count": 54,
   "id": "4b4b0e83",
   "metadata": {},
   "outputs": [
    {
     "name": "stdout",
     "output_type": "stream",
     "text": [
      "Number of sentence tokens : 7\n",
      "Sentence tokens : [\"the european union said it had joined members of the council of the baltic sea states (cbss) in suspending russia and belarus from the council's activities.\", '\"this decision is a part of the european union\\'s and like-minded partners response to russia\\'s invasion of ukraine and the involvement of belarus in this unprovoked and unjustified aggression,\" it said on saturday.', \"russia declared a partial ceasefire on saturday to allow humanitarian corridors out of the ukrainian cities of mariupol and volnovakha, russia's defence ministry said.\", 'the partial ceasefire will allow civilians to leave the city during a five-hour period from saturday morning, the city authorities said.', \"civilians will be allowed to leave mariupol between noon and 5 p.m. moscow time (0900 - 1400 gmt)\\n\\nwestern allies have moved to isolate russia's economy and financial system since its invasion of ukraine, including sanctioning its central bank and oligarchs who amassed fortunes and political influence under vladimir putin.\", 'russian president vladimir putin launched what he called a special military operation before dawn on february 24, ignoring western warnings and saying the \"neo-nazis\" ruling ukraine threatened russia\\'s security.', \"russia's assault is said to be the biggest on a european state since world war two and threatens to upend the continent's post-cold war order.\"]\n"
     ]
    }
   ],
   "source": [
    "print('Number of sentence tokens :', len(sentence_tokens))\n",
    "print('Sentence tokens :', sentence_tokens)"
   ]
  },
  {
   "cell_type": "code",
   "execution_count": 55,
   "id": "650424c0",
   "metadata": {},
   "outputs": [],
   "source": [
    "# Word tokenization\n",
    "word_tokens = word_tokenize(paragraph)"
   ]
  },
  {
   "cell_type": "code",
   "execution_count": 56,
   "id": "791a1e91",
   "metadata": {},
   "outputs": [
    {
     "name": "stdout",
     "output_type": "stream",
     "text": [
      "Number of word tokens : 236\n",
      "Word tokens : ['the', 'european', 'union', 'said', 'it', 'had', 'joined', 'members', 'of', 'the', 'council', 'of', 'the', 'baltic', 'sea', 'states', '(', 'cbss', ')', 'in', 'suspending', 'russia', 'and', 'belarus', 'from', 'the', 'council', \"'s\", 'activities', '.', '``', 'this', 'decision', 'is', 'a', 'part', 'of', 'the', 'european', 'union', \"'s\", 'and', 'like-minded', 'partners', 'response', 'to', 'russia', \"'s\", 'invasion', 'of', 'ukraine', 'and', 'the', 'involvement', 'of', 'belarus', 'in', 'this', 'unprovoked', 'and', 'unjustified', 'aggression', ',', \"''\", 'it', 'said', 'on', 'saturday', '.', 'russia', 'declared', 'a', 'partial', 'ceasefire', 'on', 'saturday', 'to', 'allow', 'humanitarian', 'corridors', 'out', 'of', 'the', 'ukrainian', 'cities', 'of', 'mariupol', 'and', 'volnovakha', ',', 'russia', \"'s\", 'defence', 'ministry', 'said', '.', 'the', 'partial', 'ceasefire', 'will', 'allow', 'civilians', 'to', 'leave', 'the', 'city', 'during', 'a', 'five-hour', 'period', 'from', 'saturday', 'morning', ',', 'the', 'city', 'authorities', 'said', '.', 'civilians', 'will', 'be', 'allowed', 'to', 'leave', 'mariupol', 'between', 'noon', 'and', '5', 'p.m.', 'moscow', 'time', '(', '0900', '-', '1400', 'gmt', ')', 'western', 'allies', 'have', 'moved', 'to', 'isolate', 'russia', \"'s\", 'economy', 'and', 'financial', 'system', 'since', 'its', 'invasion', 'of', 'ukraine', ',', 'including', 'sanctioning', 'its', 'central', 'bank', 'and', 'oligarchs', 'who', 'amassed', 'fortunes', 'and', 'political', 'influence', 'under', 'vladimir', 'putin', '.', 'russian', 'president', 'vladimir', 'putin', 'launched', 'what', 'he', 'called', 'a', 'special', 'military', 'operation', 'before', 'dawn', 'on', 'february', '24', ',', 'ignoring', 'western', 'warnings', 'and', 'saying', 'the', '``', 'neo-nazis', \"''\", 'ruling', 'ukraine', 'threatened', 'russia', \"'s\", 'security', '.', 'russia', \"'s\", 'assault', 'is', 'said', 'to', 'be', 'the', 'biggest', 'on', 'a', 'european', 'state', 'since', 'world', 'war', 'two', 'and', 'threatens', 'to', 'upend', 'the', 'continent', \"'s\", 'post-cold', 'war', 'order', '.']\n"
     ]
    }
   ],
   "source": [
    "print('Number of word tokens :', len(word_tokens))\n",
    "print('Word tokens :', word_tokens)"
   ]
  },
  {
   "cell_type": "markdown",
   "id": "125a6b1e",
   "metadata": {},
   "source": [
    "# POS Tagging and Stop words removal"
   ]
  },
  {
   "cell_type": "code",
   "execution_count": 57,
   "id": "f57e2d64",
   "metadata": {},
   "outputs": [
    {
     "name": "stdout",
     "output_type": "stream",
     "text": [
      "Stop words : {'were', 'which', 'are', 'now', 'and', \"doesn't\", \"mustn't\", 'at', \"shan't\", 'how', 'during', 'they', 'its', 'again', 'y', 'needn', 'in', 'those', 'his', 'but', 'about', 'did', 'haven', 'will', 're', 'while', 'themselves', 'when', \"isn't\", 'yourselves', 'or', 'what', 'that', 'himself', 'll', \"it's\", 'to', 'why', 'this', 'she', 'under', \"wasn't\", 'i', 'an', 'don', 'further', \"you're\", 'where', 'most', 'ain', 'itself', 'm', 'the', 'if', 'hasn', 'theirs', 'into', 'we', 'be', 'so', 'being', 'down', 'can', 'didn', 'mightn', 'between', 'weren', 'has', 've', 'these', 'some', 'not', 'other', 't', 'won', 'whom', 'here', \"mightn't\", 'shan', 'above', 'on', 'your', 'because', \"you've\", \"shouldn't\", 'from', 'him', 'd', 'until', 'once', \"don't\", 'her', 'wasn', 'ma', 'doing', 'all', 'before', 'aren', 'my', 'then', \"haven't\", 'isn', 'out', 'only', \"won't\", \"aren't\", \"couldn't\", 'couldn', 'you', 'myself', 'mustn', 'am', 'having', 'was', 's', 'ourselves', 'o', 'after', 'any', \"didn't\", 'too', 'for', 'below', 'shouldn', 'just', 'does', 'their', 'ours', \"you'd\", 'against', 'of', 'by', 'yours', \"weren't\", 'there', 'herself', 'both', \"that'll\", 'nor', \"she's\", 'been', 'own', 'more', 'wouldn', 'up', 'our', 'have', 'is', 'should', 'it', 'hers', 'had', 'few', \"needn't\", 'as', \"you'll\", 'doesn', \"hadn't\", 'than', 'same', 'a', \"wouldn't\", 'over', 'he', 'who', 'do', \"hasn't\", 'them', 'through', 'me', 'no', 'hadn', 'with', 'off', 'each', 'yourself', \"should've\", 'very', 'such'}\n"
     ]
    }
   ],
   "source": [
    "stop_words = set(stopwords.words('english'))\n",
    "print('Stop words :', stop_words)"
   ]
  },
  {
   "cell_type": "code",
   "execution_count": 58,
   "id": "c54bd847",
   "metadata": {},
   "outputs": [],
   "source": [
    "word_tokens = [word_token for word_token in word_tokens if word_token not in stop_words]"
   ]
  },
  {
   "cell_type": "code",
   "execution_count": 59,
   "id": "5d40ab82",
   "metadata": {},
   "outputs": [
    {
     "name": "stdout",
     "output_type": "stream",
     "text": [
      "Filtered word tokens : ['european', 'union', 'said', 'joined', 'members', 'council', 'baltic', 'sea', 'states', '(', 'cbss', ')', 'suspending', 'russia', 'belarus', 'council', \"'s\", 'activities', '.', '``', 'decision', 'part', 'european', 'union', \"'s\", 'like-minded', 'partners', 'response', 'russia', \"'s\", 'invasion', 'ukraine', 'involvement', 'belarus', 'unprovoked', 'unjustified', 'aggression', ',', \"''\", 'said', 'saturday', '.', 'russia', 'declared', 'partial', 'ceasefire', 'saturday', 'allow', 'humanitarian', 'corridors', 'ukrainian', 'cities', 'mariupol', 'volnovakha', ',', 'russia', \"'s\", 'defence', 'ministry', 'said', '.', 'partial', 'ceasefire', 'allow', 'civilians', 'leave', 'city', 'five-hour', 'period', 'saturday', 'morning', ',', 'city', 'authorities', 'said', '.', 'civilians', 'allowed', 'leave', 'mariupol', 'noon', '5', 'p.m.', 'moscow', 'time', '(', '0900', '-', '1400', 'gmt', ')', 'western', 'allies', 'moved', 'isolate', 'russia', \"'s\", 'economy', 'financial', 'system', 'since', 'invasion', 'ukraine', ',', 'including', 'sanctioning', 'central', 'bank', 'oligarchs', 'amassed', 'fortunes', 'political', 'influence', 'vladimir', 'putin', '.', 'russian', 'president', 'vladimir', 'putin', 'launched', 'called', 'special', 'military', 'operation', 'dawn', 'february', '24', ',', 'ignoring', 'western', 'warnings', 'saying', '``', 'neo-nazis', \"''\", 'ruling', 'ukraine', 'threatened', 'russia', \"'s\", 'security', '.', 'russia', \"'s\", 'assault', 'said', 'biggest', 'european', 'state', 'since', 'world', 'war', 'two', 'threatens', 'upend', 'continent', \"'s\", 'post-cold', 'war', 'order', '.']\n"
     ]
    }
   ],
   "source": [
    "print('Filtered word tokens :', word_tokens)"
   ]
  },
  {
   "cell_type": "code",
   "execution_count": 62,
   "id": "bfb20342",
   "metadata": {},
   "outputs": [],
   "source": [
    "'''\n",
    "CC coordinating conjunction \n",
    "CD cardinal digit \n",
    "DT determiner \n",
    "EX existential there (like: “there is” … think of it like “there exists”) \n",
    "FW foreign word \n",
    "IN preposition/subordinating conjunction \n",
    "JJ adjective – ‘big’ \n",
    "JJR adjective, comparative – ‘bigger’ \n",
    "JJS adjective, superlative – ‘biggest’ \n",
    "LS list marker 1) \n",
    "MD modal – could, will \n",
    "NN noun, singular ‘- desk’ \n",
    "NNS noun plural – ‘desks’ \n",
    "NNP proper noun, singular – ‘Harrison’ \n",
    "NNPS proper noun, plural – ‘Americans’ \n",
    "PDT predeterminer – ‘all the kids’ \n",
    "POS possessive ending parent’s \n",
    "PRP personal pronoun –  I, he, she \n",
    "PRP$ possessive pronoun – my, his, hers \n",
    "RB adverb – very, silently, \n",
    "RBR adverb, comparative – better \n",
    "RBS adverb, superlative – best \n",
    "RP particle – give up \n",
    "TO – to go ‘to’ the store. \n",
    "UH interjection – errrrrrrrm \n",
    "VB verb, base form – take \n",
    "VBD verb, past tense – took \n",
    "VBG verb, gerund/present participle – taking \n",
    "VBN verb, past participle – taken \n",
    "VBP verb, sing. present, non-3d – take \n",
    "VBZ verb, 3rd person sing. present – takes \n",
    "WDT wh-determiner – which \n",
    "WP wh-pronoun – who, what \n",
    "WP$ possessive wh-pronoun, eg- whose \n",
    "WRB wh-abverb, eg- where, when\n",
    "'''\n",
    "tagged = nltk.pos_tag(word_tokens)"
   ]
  },
  {
   "cell_type": "code",
   "execution_count": 65,
   "id": "32a39f9c",
   "metadata": {},
   "outputs": [
    {
     "name": "stdout",
     "output_type": "stream",
     "text": [
      "POS Tagged form of filtered word tokens :\n",
      "('european', 'JJ')\n",
      "('union', 'NN')\n",
      "('said', 'VBD')\n",
      "('joined', 'JJ')\n",
      "('members', 'NNS')\n",
      "('council', 'VBP')\n",
      "('baltic', 'JJ')\n",
      "('sea', 'NN')\n",
      "('states', 'NNS')\n",
      "('(', '(')\n",
      "('cbss', 'NN')\n",
      "(')', ')')\n",
      "('suspending', 'VBG')\n",
      "('russia', 'JJ')\n",
      "('belarus', 'NN')\n",
      "('council', 'NN')\n",
      "(\"'s\", 'POS')\n",
      "('activities', 'NNS')\n",
      "('.', '.')\n",
      "('``', '``')\n",
      "('decision', 'NN')\n",
      "('part', 'NN')\n",
      "('european', 'VBP')\n",
      "('union', 'NN')\n",
      "(\"'s\", 'POS')\n",
      "('like-minded', 'JJ')\n",
      "('partners', 'NNS')\n",
      "('response', 'NN')\n",
      "('russia', 'NN')\n",
      "(\"'s\", 'POS')\n",
      "('invasion', 'NN')\n",
      "('ukraine', 'JJ')\n",
      "('involvement', 'NN')\n",
      "('belarus', 'NN')\n",
      "('unprovoked', 'VBD')\n",
      "('unjustified', 'JJ')\n",
      "('aggression', 'NN')\n",
      "(',', ',')\n",
      "(\"''\", \"''\")\n",
      "('said', 'VBD')\n",
      "('saturday', 'NN')\n",
      "('.', '.')\n",
      "('russia', 'NN')\n",
      "('declared', 'VBD')\n",
      "('partial', 'JJ')\n",
      "('ceasefire', 'NN')\n",
      "('saturday', 'NN')\n",
      "('allow', 'VB')\n",
      "('humanitarian', 'JJ')\n",
      "('corridors', 'NNS')\n",
      "('ukrainian', 'JJ')\n",
      "('cities', 'NNS')\n",
      "('mariupol', 'VBP')\n",
      "('volnovakha', 'NN')\n",
      "(',', ',')\n",
      "('russia', 'NN')\n",
      "(\"'s\", 'POS')\n",
      "('defence', 'NN')\n",
      "('ministry', 'NN')\n",
      "('said', 'VBD')\n",
      "('.', '.')\n",
      "('partial', 'JJ')\n",
      "('ceasefire', 'NN')\n",
      "('allow', 'NN')\n",
      "('civilians', 'NNS')\n",
      "('leave', 'VBP')\n",
      "('city', 'NN')\n",
      "('five-hour', 'JJ')\n",
      "('period', 'NN')\n",
      "('saturday', 'JJ')\n",
      "('morning', 'NN')\n",
      "(',', ',')\n",
      "('city', 'NN')\n",
      "('authorities', 'NNS')\n",
      "('said', 'VBD')\n",
      "('.', '.')\n",
      "('civilians', 'NNS')\n",
      "('allowed', 'VBN')\n",
      "('leave', 'VBP')\n",
      "('mariupol', 'VBN')\n",
      "('noon', 'RB')\n",
      "('5', 'CD')\n",
      "('p.m.', 'NN')\n",
      "('moscow', 'NN')\n",
      "('time', 'NN')\n",
      "('(', '(')\n",
      "('0900', 'CD')\n",
      "('-', ':')\n",
      "('1400', 'CD')\n",
      "('gmt', 'NN')\n",
      "(')', ')')\n",
      "('western', 'JJ')\n",
      "('allies', 'NNS')\n",
      "('moved', 'VBD')\n",
      "('isolate', 'JJ')\n",
      "('russia', 'NN')\n",
      "(\"'s\", 'POS')\n",
      "('economy', 'NN')\n",
      "('financial', 'JJ')\n",
      "('system', 'NN')\n",
      "('since', 'IN')\n",
      "('invasion', 'NN')\n",
      "('ukraine', 'NN')\n",
      "(',', ',')\n",
      "('including', 'VBG')\n",
      "('sanctioning', 'VBG')\n",
      "('central', 'JJ')\n",
      "('bank', 'NN')\n",
      "('oligarchs', 'NNS')\n",
      "('amassed', 'VBN')\n",
      "('fortunes', 'NNS')\n",
      "('political', 'JJ')\n",
      "('influence', 'NN')\n",
      "('vladimir', 'NN')\n",
      "('putin', 'NN')\n",
      "('.', '.')\n",
      "('russian', 'JJ')\n",
      "('president', 'NN')\n",
      "('vladimir', 'NN')\n",
      "('putin', 'NN')\n",
      "('launched', 'VBN')\n",
      "('called', 'VBN')\n",
      "('special', 'JJ')\n",
      "('military', 'JJ')\n",
      "('operation', 'NN')\n",
      "('dawn', 'VBD')\n",
      "('february', 'JJ')\n",
      "('24', 'CD')\n",
      "(',', ',')\n",
      "('ignoring', 'VBG')\n",
      "('western', 'JJ')\n",
      "('warnings', 'NNS')\n",
      "('saying', 'VBG')\n",
      "('``', '``')\n",
      "('neo-nazis', 'JJ')\n",
      "(\"''\", \"''\")\n",
      "('ruling', 'VBG')\n",
      "('ukraine', 'JJ')\n",
      "('threatened', 'VBN')\n",
      "('russia', 'NN')\n",
      "(\"'s\", 'POS')\n",
      "('security', 'NN')\n",
      "('.', '.')\n",
      "('russia', 'NN')\n",
      "(\"'s\", 'POS')\n",
      "('assault', 'NN')\n",
      "('said', 'VBD')\n",
      "('biggest', 'JJS')\n",
      "('european', 'JJ')\n",
      "('state', 'NN')\n",
      "('since', 'IN')\n",
      "('world', 'NN')\n",
      "('war', 'NN')\n",
      "('two', 'CD')\n",
      "('threatens', 'NNS')\n",
      "('upend', 'VBP')\n",
      "('continent', 'NN')\n",
      "(\"'s\", 'POS')\n",
      "('post-cold', 'JJ')\n",
      "('war', 'NN')\n",
      "('order', 'NN')\n",
      "('.', '.')\n"
     ]
    }
   ],
   "source": [
    "print('POS Tagged form of filtered word tokens :')\n",
    "for tag in tagged:\n",
    "    print(tag)"
   ]
  },
  {
   "cell_type": "markdown",
   "id": "2e6ce31d",
   "metadata": {},
   "source": [
    "# Stemming"
   ]
  },
  {
   "cell_type": "code",
   "execution_count": 68,
   "id": "23cc5172",
   "metadata": {},
   "outputs": [],
   "source": [
    "ps = PorterStemmer()"
   ]
  },
  {
   "cell_type": "code",
   "execution_count": 73,
   "id": "af04e8c3",
   "metadata": {},
   "outputs": [
    {
     "name": "stdout",
     "output_type": "stream",
     "text": [
      "Results of Stemming\n",
      "european --> european\n",
      "union --> union\n",
      "said --> said\n",
      "joined --> join\n",
      "members --> member\n",
      "council --> council\n",
      "baltic --> baltic\n",
      "sea --> sea\n",
      "states --> state\n",
      "( --> (\n",
      "cbss --> cbss\n",
      ") --> )\n",
      "suspending --> suspend\n",
      "russia --> russia\n",
      "belarus --> belaru\n",
      "'s --> 's\n",
      "activities --> activ\n",
      ". --> .\n",
      "`` --> ``\n",
      "decision --> decis\n",
      "part --> part\n",
      "like-minded --> like-mind\n",
      "partners --> partner\n",
      "response --> respons\n",
      "invasion --> invas\n",
      "ukraine --> ukrain\n",
      "involvement --> involv\n",
      "unprovoked --> unprovok\n",
      "unjustified --> unjustifi\n",
      "aggression --> aggress\n",
      ", --> ,\n",
      "'' --> ''\n",
      "saturday --> saturday\n",
      "declared --> declar\n",
      "partial --> partial\n",
      "ceasefire --> ceasefir\n",
      "allow --> allow\n",
      "humanitarian --> humanitarian\n",
      "corridors --> corridor\n",
      "ukrainian --> ukrainian\n",
      "cities --> citi\n",
      "mariupol --> mariupol\n",
      "volnovakha --> volnovakha\n",
      "defence --> defenc\n",
      "ministry --> ministri\n",
      "civilians --> civilian\n",
      "leave --> leav\n",
      "city --> citi\n",
      "five-hour --> five-hour\n",
      "period --> period\n",
      "morning --> morn\n",
      "authorities --> author\n",
      "allowed --> allow\n",
      "noon --> noon\n",
      "5 --> 5\n",
      "p.m. --> p.m.\n",
      "moscow --> moscow\n",
      "time --> time\n",
      "0900 --> 0900\n",
      "- --> -\n",
      "1400 --> 1400\n",
      "gmt --> gmt\n",
      "western --> western\n",
      "allies --> alli\n",
      "moved --> move\n",
      "isolate --> isol\n",
      "economy --> economi\n",
      "financial --> financi\n",
      "system --> system\n",
      "since --> sinc\n",
      "including --> includ\n",
      "sanctioning --> sanction\n",
      "central --> central\n",
      "bank --> bank\n",
      "oligarchs --> oligarch\n",
      "amassed --> amass\n",
      "fortunes --> fortun\n",
      "political --> polit\n",
      "influence --> influenc\n",
      "vladimir --> vladimir\n",
      "putin --> putin\n",
      "russian --> russian\n",
      "president --> presid\n",
      "launched --> launch\n",
      "called --> call\n",
      "special --> special\n",
      "military --> militari\n",
      "operation --> oper\n",
      "dawn --> dawn\n",
      "february --> februari\n",
      "24 --> 24\n",
      "ignoring --> ignor\n",
      "warnings --> warn\n",
      "saying --> say\n",
      "neo-nazis --> neo-nazi\n",
      "ruling --> rule\n",
      "threatened --> threaten\n",
      "security --> secur\n",
      "assault --> assault\n",
      "biggest --> biggest\n",
      "state --> state\n",
      "world --> world\n",
      "war --> war\n",
      "two --> two\n",
      "threatens --> threaten\n",
      "upend --> upend\n",
      "continent --> contin\n",
      "post-cold --> post-cold\n",
      "order --> order\n"
     ]
    }
   ],
   "source": [
    "print('Results of Stemming')\n",
    "stemmed = {word: ps.stem(word) for word in word_tokens}\n",
    "for pair in stemmed.items():\n",
    "    print('{0} --> {1}'.format(pair[0], pair[1]))"
   ]
  },
  {
   "cell_type": "markdown",
   "id": "9b3d00bd",
   "metadata": {},
   "source": [
    "# Lemmatization"
   ]
  },
  {
   "cell_type": "code",
   "execution_count": 75,
   "id": "ecb31976",
   "metadata": {},
   "outputs": [],
   "source": [
    "lemmatizer = WordNetLemmatizer()"
   ]
  },
  {
   "cell_type": "code",
   "execution_count": 80,
   "id": "b4fa11fc",
   "metadata": {},
   "outputs": [
    {
     "name": "stdout",
     "output_type": "stream",
     "text": [
      "Results of Lemmatization\n",
      "european --> european\n",
      "union --> union\n",
      "said --> said\n",
      "joined --> joined\n",
      "members --> member\n",
      "council --> council\n",
      "baltic --> baltic\n",
      "sea --> sea\n",
      "states --> state\n",
      "( --> (\n",
      "cbss --> cbss\n",
      ") --> )\n",
      "suspending --> suspending\n",
      "russia --> russia\n",
      "belarus --> belarus\n",
      "'s --> 's\n",
      "activities --> activity\n",
      ". --> .\n",
      "`` --> ``\n",
      "decision --> decision\n",
      "part --> part\n",
      "like-minded --> like-minded\n",
      "partners --> partner\n",
      "response --> response\n",
      "invasion --> invasion\n",
      "ukraine --> ukraine\n",
      "involvement --> involvement\n",
      "unprovoked --> unprovoked\n",
      "unjustified --> unjustified\n",
      "aggression --> aggression\n",
      ", --> ,\n",
      "'' --> ''\n",
      "saturday --> saturday\n",
      "declared --> declared\n",
      "partial --> partial\n",
      "ceasefire --> ceasefire\n",
      "allow --> allow\n",
      "humanitarian --> humanitarian\n",
      "corridors --> corridor\n",
      "ukrainian --> ukrainian\n",
      "cities --> city\n",
      "mariupol --> mariupol\n",
      "volnovakha --> volnovakha\n",
      "defence --> defence\n",
      "ministry --> ministry\n",
      "civilians --> civilian\n",
      "leave --> leave\n",
      "city --> city\n",
      "five-hour --> five-hour\n",
      "period --> period\n",
      "morning --> morning\n",
      "authorities --> authority\n",
      "allowed --> allowed\n",
      "noon --> noon\n",
      "5 --> 5\n",
      "p.m. --> p.m.\n",
      "moscow --> moscow\n",
      "time --> time\n",
      "0900 --> 0900\n",
      "- --> -\n",
      "1400 --> 1400\n",
      "gmt --> gmt\n",
      "western --> western\n",
      "allies --> ally\n",
      "moved --> moved\n",
      "isolate --> isolate\n",
      "economy --> economy\n",
      "financial --> financial\n",
      "system --> system\n",
      "since --> since\n",
      "including --> including\n",
      "sanctioning --> sanctioning\n",
      "central --> central\n",
      "bank --> bank\n",
      "oligarchs --> oligarch\n",
      "amassed --> amassed\n",
      "fortunes --> fortune\n",
      "political --> political\n",
      "influence --> influence\n",
      "vladimir --> vladimir\n",
      "putin --> putin\n",
      "russian --> russian\n",
      "president --> president\n",
      "launched --> launched\n",
      "called --> called\n",
      "special --> special\n",
      "military --> military\n",
      "operation --> operation\n",
      "dawn --> dawn\n",
      "february --> february\n",
      "24 --> 24\n",
      "ignoring --> ignoring\n",
      "warnings --> warning\n",
      "saying --> saying\n",
      "neo-nazis --> neo-nazis\n",
      "ruling --> ruling\n",
      "threatened --> threatened\n",
      "security --> security\n",
      "assault --> assault\n",
      "biggest --> biggest\n",
      "state --> state\n",
      "world --> world\n",
      "war --> war\n",
      "two --> two\n",
      "threatens --> threatens\n",
      "upend --> upend\n",
      "continent --> continent\n",
      "post-cold --> post-cold\n",
      "order --> order\n"
     ]
    }
   ],
   "source": [
    "print('Results of Lemmatization')\n",
    "lemmatized = {word: lemmatizer.lemmatize(word) for word in word_tokens}\n",
    "for pair in lemmatized.items():\n",
    "    print('{0} --> {1}'.format(pair[0], pair[1]))"
   ]
  },
  {
   "cell_type": "markdown",
   "id": "e3dddbf8",
   "metadata": {},
   "source": [
    "# Term-Frequency and Inverse Document Frequency"
   ]
  },
  {
   "cell_type": "code",
   "execution_count": 82,
   "id": "6e9b3c9a",
   "metadata": {},
   "outputs": [],
   "source": [
    "def arr_convert_1d(arr):\n",
    "    arr = np.array(arr)\n",
    "    arr = np.concatenate( arr, axis=0 )\n",
    "    arr = np.concatenate( arr, axis=0 )\n",
    "    return arr"
   ]
  },
  {
   "cell_type": "code",
   "execution_count": 83,
   "id": "8ad6f807",
   "metadata": {},
   "outputs": [],
   "source": [
    "cos = []\n",
    "def cosine(trans):\n",
    "    cos.append(cosine_similarity(trans[0], trans[1]))"
   ]
  },
  {
   "cell_type": "code",
   "execution_count": 84,
   "id": "2bc065b4",
   "metadata": {},
   "outputs": [],
   "source": [
    "manhatten = []\n",
    "def manhatten_distance(trans):\n",
    "    manhatten.append(pairwise_distances(trans[0], trans[1], metric = 'manhattan'))"
   ]
  },
  {
   "cell_type": "code",
   "execution_count": 85,
   "id": "52a51b87",
   "metadata": {},
   "outputs": [],
   "source": [
    "euclidean = []\n",
    "def euclidean_function(vectors):\n",
    "    euc=euclidean_distances(vectors[0], vectors[1])\n",
    "    euclidean.append(euc)"
   ]
  },
  {
   "cell_type": "code",
   "execution_count": 89,
   "id": "9eef4a9a",
   "metadata": {},
   "outputs": [],
   "source": [
    "def tfidf(str1, str2):\n",
    "    vect = TfidfVectorizer()\n",
    "    vect.fit(word_tokens)\n",
    "    corpus = [str1,str2]\n",
    "    trans = vect.transform(corpus)\n",
    "    euclidean_function(trans)\n",
    "    cosine(trans)\n",
    "    manhatten_distance(trans)\n",
    "    return convert()"
   ]
  },
  {
   "cell_type": "code",
   "execution_count": 90,
   "id": "b5a4f27f",
   "metadata": {},
   "outputs": [],
   "source": [
    "def convert():\n",
    "    dataf = pd.DataFrame()\n",
    "    lis2 = arr_convert_1d(manhatten)\n",
    "    dataf['manhatten'] = lis2\n",
    "    lis2 = arr_convert_1d(cos)\n",
    "    dataf['cos_sim'] = lis2\n",
    "    lis2 = arr_convert_1d(euclidean)\n",
    "    dataf['euclidean'] = lis2\n",
    "    return dataf"
   ]
  },
  {
   "cell_type": "code",
   "execution_count": 91,
   "id": "c608b39d",
   "metadata": {},
   "outputs": [
    {
     "name": "stdout",
     "output_type": "stream",
     "text": [
      "   manhatten  cos_sim  euclidean\n",
      "0        2.0      0.0   1.414214\n"
     ]
    }
   ],
   "source": [
    "str1 = 'russia'\n",
    "str2 = 'ukraine'\n",
    "newData = tfidf(str1,str2);\n",
    "print(newData);"
   ]
  }
 ],
 "metadata": {
  "kernelspec": {
   "display_name": "Python 3 (ipykernel)",
   "language": "python",
   "name": "python3"
  },
  "language_info": {
   "codemirror_mode": {
    "name": "ipython",
    "version": 3
   },
   "file_extension": ".py",
   "mimetype": "text/x-python",
   "name": "python",
   "nbconvert_exporter": "python",
   "pygments_lexer": "ipython3",
   "version": "3.8.10"
  }
 },
 "nbformat": 4,
 "nbformat_minor": 5
}
